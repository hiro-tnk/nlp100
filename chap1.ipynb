{
 "cells": [
  {
   "cell_type": "markdown",
   "metadata": {},
   "source": [
    "第1章: 準備運動 (http://www.cl.ecei.tohoku.ac.jp/nlp100/)"
   ]
  },
  {
   "cell_type": "code",
   "execution_count": 1,
   "metadata": {
    "collapsed": false
   },
   "outputs": [
    {
     "name": "stdout",
     "output_type": "stream",
     "text": [
      "desserts\n"
     ]
    }
   ],
   "source": [
    "#00\n",
    "target='stressed'\n",
    "print(target[::-1])"
   ]
  },
  {
   "cell_type": "code",
   "execution_count": 2,
   "metadata": {
    "collapsed": false
   },
   "outputs": [
    {
     "name": "stdout",
     "output_type": "stream",
     "text": [
      "パトカー\n"
     ]
    }
   ],
   "source": [
    "#01\n",
    "target='パタトクカシーー'\n",
    "print(target[:8:2])"
   ]
  },
  {
   "cell_type": "code",
   "execution_count": 3,
   "metadata": {
    "collapsed": false
   },
   "outputs": [
    {
     "name": "stdout",
     "output_type": "stream",
     "text": [
      "パタトクカシーー\n"
     ]
    }
   ],
   "source": [
    "#02\n",
    "target1='パトカー'\n",
    "target2='タクシー'\n",
    "res=''\n",
    "for i in range(len(target1)):\n",
    "    res=''.join([res,target1[i],target2[i]])\n",
    "print(res)"
   ]
  },
  {
   "cell_type": "code",
   "execution_count": 4,
   "metadata": {
    "collapsed": false
   },
   "outputs": [
    {
     "name": "stdout",
     "output_type": "stream",
     "text": [
      "[3, 1, 4, 1, 5, 9, 2, 6, 5, 3, 5, 8, 9, 7, 9]\n"
     ]
    }
   ],
   "source": [
    "#03\n",
    "target=\"Now I need a drink, alcoholic of course, after the heavy lectures involving quantum mechanics.\"\n",
    "print([len(s.replace(',','').replace('.','')) for s in target.split()])"
   ]
  },
  {
   "cell_type": "code",
   "execution_count": 5,
   "metadata": {
    "collapsed": false
   },
   "outputs": [
    {
     "name": "stdout",
     "output_type": "stream",
     "text": [
      "{'N': 7, 'Li': 3, 'Be': 4, 'F': 9, 'Na': 11, 'S': 16, 'Cl': 17, 'Al': 13, 'C': 6, 'B': 5, 'Mi': 12, 'Ca': 20, 'Ar': 18, 'P': 15, 'Ne': 10, 'Si': 14, 'O': 8, 'K': 19, 'He': 2, 'H': 1}\n"
     ]
    }
   ],
   "source": [
    "#04\n",
    "target=\"Hi He Lied Because Boron Could Not Oxidize Fluorine. New Nations Might Also Sign Peace Security Clause. Arthur King Can.\"\n",
    "splitted = target.split()\n",
    "nums = [2]*len(splitted)\n",
    "nums[0]=1\n",
    "nums[4:9]=[1]*5\n",
    "nums[14:16]=[1]*2\n",
    "nums[18]=1\n",
    "elements=[splitted[i][:nums[i]] for i in range(len(splitted))]\n",
    "elements={elements[i]:i+1 for i in range(len(elements))}\n",
    "print(elements)"
   ]
  },
  {
   "cell_type": "code",
   "execution_count": 5,
   "metadata": {
    "collapsed": true
   },
   "outputs": [],
   "source": [
    "#05\n",
    "from collections import defaultdict\n",
    "def n_gram(seq, n=2):\n",
    "    res=defaultdict(int)\n",
    "    for i in range(len(seq)-n+1):\n",
    "        res[tuple(seq[i:i+n])]+=1\n",
    "    return res"
   ]
  },
  {
   "cell_type": "code",
   "execution_count": 7,
   "metadata": {
    "collapsed": false
   },
   "outputs": [
    {
     "name": "stdout",
     "output_type": "stream",
     "text": [
      "defaultdict(<class 'int'>, {(' ', 'N'): 1, (' ', 'a'): 2, ('a', 'm'): 1, ('a', 'n'): 1, ('P', 'e'): 1, ('n', ' '): 1, ('I', ' '): 1, ('N', 'L'): 1, ('e', 'r'): 1, ('L', 'P'): 1, ('m', ' '): 1})\n",
      "defaultdict(<class 'int'>, {('an', 'NLPer'): 1, ('I', 'am'): 1, ('am', 'an'): 1})\n"
     ]
    }
   ],
   "source": [
    "target='I am an NLPer'\n",
    "char_bigram=n_gram(target)\n",
    "print(char_bigram)\n",
    "word_seq=target.split()\n",
    "word_bigram=n_gram(word_seq)\n",
    "print(word_bigram)"
   ]
  },
  {
   "cell_type": "code",
   "execution_count": 8,
   "metadata": {
    "collapsed": false
   },
   "outputs": [
    {
     "data": {
      "text/plain": [
       "1"
      ]
     },
     "execution_count": 8,
     "metadata": {},
     "output_type": "execute_result"
    }
   ],
   "source": [
    "word_bigram['I','am']"
   ]
  },
  {
   "cell_type": "code",
   "execution_count": 9,
   "metadata": {
    "collapsed": false
   },
   "outputs": [
    {
     "name": "stdout",
     "output_type": "stream",
     "text": [
      "defaultdict(<class 'int'>, {('N', 'L', 'P'): 1, (' ', 'a', 'n'): 1, ('L', 'P', 'e'): 1, ('a', 'n', ' '): 1, ('a', 'm', ' '): 1, ('m', ' ', 'a'): 1, ('P', 'e', 'r'): 1, (' ', 'N', 'L'): 1, ('I', ' ', 'a'): 1, ('n', ' ', 'N'): 1, (' ', 'a', 'm'): 1})\n"
     ]
    }
   ],
   "source": [
    "char_trigram=n_gram(target,3)\n",
    "print(char_trigram)"
   ]
  },
  {
   "cell_type": "code",
   "execution_count": 17,
   "metadata": {
    "collapsed": false
   },
   "outputs": [
    {
     "name": "stdout",
     "output_type": "stream",
     "text": [
      "X={('a', 'p'), ('a', 'd'), ('s', 'e'), ('p', 'a'), ('i', 's'), ('a', 'r'), ('r', 'a'), ('d', 'i')}\n",
      "Y={('a', 'p'), ('p', 'a'), ('p', 'h'), ('g', 'r'), ('a', 'r'), ('r', 'a'), ('a', 'g')}\n",
      "X∪Y={('a', 'p'), ('a', 'd'), ('s', 'e'), ('p', 'a'), ('i', 's'), ('p', 'h'), ('g', 'r'), ('a', 'r'), ('r', 'a'), ('a', 'g'), ('d', 'i')}\n",
      "X∩Y={('p', 'a'), ('r', 'a'), ('a', 'p'), ('a', 'r')}\n",
      "X\\Y={('s', 'e'), ('a', 'd'), ('i', 's'), ('d', 'i')}\n",
      "Y\\X={('g', 'r'), ('a', 'g'), ('p', 'h')}\n",
      "se in X is True\n",
      "se in Y is False\n"
     ]
    }
   ],
   "source": [
    "#06\n",
    "target1='paraparaparadise'\n",
    "target2='paragraph'\n",
    "set1=set(n_gram(target1))\n",
    "set2=set(n_gram(target2))\n",
    "print('X={0}'.format(set1))\n",
    "print('Y={0}'.format(set2))\n",
    "print('X∪Y={0}'.format(set1.union(set2)))\n",
    "print('X∩Y={0}'.format(set1.intersection(set2)))\n",
    "print('X\\\\Y={0}'.format(set1.difference(set2)))\n",
    "print('Y\\\\X={0}'.format(set2.difference(set1)))\n",
    "print('se in X is', ('s','e') in set1)\n",
    "print('se in Y is', ('s','e') in set2)"
   ]
  },
  {
   "cell_type": "code",
   "execution_count": 19,
   "metadata": {
    "collapsed": false
   },
   "outputs": [
    {
     "name": "stdout",
     "output_type": "stream",
     "text": [
      "12時の気温は22.4\n"
     ]
    }
   ],
   "source": [
    "#07\n",
    "def prob7(x,y,z):\n",
    "    return '{0}時の{1}は{2}'.format(x,y,z)\n",
    "print(prob7(12,'気温',22.4))"
   ]
  },
  {
   "cell_type": "code",
   "execution_count": null,
   "metadata": {
    "collapsed": true
   },
   "outputs": [],
   "source": []
  }
 ],
 "metadata": {
  "kernelspec": {
   "display_name": "Python 3",
   "language": "python",
   "name": "python3"
  },
  "language_info": {
   "codemirror_mode": {
    "name": "ipython",
    "version": 3
   },
   "file_extension": ".py",
   "mimetype": "text/x-python",
   "name": "python",
   "nbconvert_exporter": "python",
   "pygments_lexer": "ipython3",
   "version": "3.5.1"
  },
  "latex_envs": {
   "bibliofile": "biblio.bib",
   "cite_by": "apalike",
   "current_citInitial": 1,
   "eqLabelWithNumbers": true,
   "eqNumInitial": 0
  }
 },
 "nbformat": 4,
 "nbformat_minor": 0
}
